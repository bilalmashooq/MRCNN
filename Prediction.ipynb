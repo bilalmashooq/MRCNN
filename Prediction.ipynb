{
 "cells": [
  {
   "cell_type": "code",
   "outputs": [],
   "source": [
    "import mrcnn\n",
    "import mrcnn.config\n",
    "import mrcnn.model\n",
    "import mrcnn.visualize\n",
    "import cv2\n",
    "import os\n",
    "import numpy as np\n",
    "\n",
    "# load the class label names from disk, one label per line\n",
    "# CLASS_NAMES = open(\"coco_labels.txt\").read().strip().split(\"\\n\")\n",
    "\n",
    "#CLASS_NAMES = ['BG', 'person', 'bicycle', 'car', 'motorcycle', 'airplane', 'bus', 'train', 'truck', 'boat', 'traffic light', 'fire hydrant', 'stop sign', 'parking meter', 'bench', 'bird', 'cat', 'dog', 'horse', 'sheep', 'cow', 'elephant', 'bear', 'zebra', 'giraffe', 'backpack', 'umbrella', 'handbag', 'tie', 'suitcase', 'frisbee', 'skis', 'snowboard', 'sports ball', 'kite', 'baseball bat', 'baseball glove', 'skateboard', 'surfboard', 'tennis racket', 'bottle', 'wine glass', 'cup', 'fork', 'knife', 'spoon', 'bowl', 'banana', 'apple', 'sandwich', 'orange', 'broccoli', 'carrot', 'hot dog', 'pizza', 'donut', 'cake', 'chair', 'couch', 'potted plant', 'bed', 'dining table', 'toilet', 'tv', 'laptop', 'mouse', 'remote', 'keyboard', 'cell phone', 'microwave', 'oven', 'toaster', 'sink', 'refrigerator', 'book', 'clock', 'vase', 'scissors', 'teddy bear', 'hair drier', 'toothbrush']\n",
    "CLASS_NAMES = ['BG','drone']\n",
    "class SimpleConfig(mrcnn.config.Config):\n",
    "    # Give the configuration a recognizable name\n",
    "    NAME = \"coco_inference\"\n",
    "    \n",
    "    # set the number of GPUs to use along with the number of images per GPU\n",
    "    GPU_COUNT = 1\n",
    "    IMAGES_PER_GPU = 1\n",
    "\n",
    "\t# Number of classes = number of classes + 1 (+1 for the background). The background class is named BG\n",
    "    NUM_CLASSES = len(CLASS_NAMES)\n",
    "\n",
    "# Initialize the Mask R-CNN model for inference and then load the weights.\n",
    "# This step builds the Keras model architecture.\n",
    "model = mrcnn.model.MaskRCNN(mode=\"inference\", \n",
    "                             config=SimpleConfig(),\n",
    "                             model_dir=os.getcwd())\n",
    "\n",
    "# Load the weights into the model.\n",
    "model.load_weights(filepath=\"drone_mask_rcnn_coco_datasplit40.h5\", \n",
    "                   by_name=True)\n",
    "\n",
    "# load the input image, convert it from BGR to RGB channel\n",
    "image = cv2.imread(\"6.jpeg\")\n",
    "image = cv2.cvtColor(image, cv2.COLOR_BGR2RGB)\n",
    "\n",
    "# Perform a forward pass of the network to obtain the results\n",
    "r = model.detect([image])\n",
    "\n",
    "# Get the results for the first image.\n",
    "r = r[0]\n",
    "filtered_indices = np.where(r['scores'] >= 0.999)[0]\n",
    "# Visualize the detected objects.\n",
    "mrcnn.visualize.display_instances(image=image, \n",
    "                                  boxes=r['rois'][filtered_indices], \n",
    "                                  masks=r['masks'][:, :, filtered_indices], \n",
    "                                  class_ids=r['class_ids'][filtered_indices], \n",
    "                                  class_names=CLASS_NAMES, \n",
    "                                  scores=r['scores'][filtered_indices])"
   ],
   "metadata": {
    "collapsed": false
   },
   "id": "8b1421b7eeb8ecbb",
   "execution_count": null
  },
  {
   "cell_type": "code",
   "outputs": [],
   "source": [],
   "metadata": {
    "collapsed": false
   },
   "id": "5e92b7bba947b3c8"
  }
 ],
 "metadata": {
  "kernelspec": {
   "display_name": "Python 3",
   "language": "python",
   "name": "python3"
  },
  "language_info": {
   "codemirror_mode": {
    "name": "ipython",
    "version": 2
   },
   "file_extension": ".py",
   "mimetype": "text/x-python",
   "name": "python",
   "nbconvert_exporter": "python",
   "pygments_lexer": "ipython2",
   "version": "2.7.6"
  }
 },
 "nbformat": 4,
 "nbformat_minor": 5
}
